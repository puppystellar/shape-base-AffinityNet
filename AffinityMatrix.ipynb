{
 "cells": [
  {
   "cell_type": "code",
   "execution_count": 4,
   "id": "6193ad36",
   "metadata": {},
   "outputs": [
    {
     "name": "stdout",
     "output_type": "stream",
     "text": [
      "(1, 160, 71, 125)\n"
     ]
    }
   ],
   "source": [
    "# test affinity feature npy shape\n",
    "import numpy as np\n",
    "test = np.load('/Users/liuguangyao/Documents/py_project/affinityGCN/data/2007_000032.npy')\n",
    "print(test.shape)"
   ]
  },
  {
   "cell_type": "code",
   "execution_count": 1,
   "id": "1f3235e5",
   "metadata": {},
   "outputs": [
    {
     "data": {
      "text/plain": [
       "array([[1.00000000e+000, 3.68306060e-044, 1.84007472e-174,\n",
       "        0.00000000e+000, 0.00000000e+000, 0.00000000e+000],\n",
       "       [3.68306060e-044, 1.00000000e+000, 3.68306060e-044,\n",
       "        1.84007472e-174, 0.00000000e+000, 0.00000000e+000],\n",
       "       [1.84007472e-174, 3.68306060e-044, 1.00000000e+000,\n",
       "        3.68306060e-044, 1.84007472e-174, 0.00000000e+000],\n",
       "       [0.00000000e+000, 1.84007472e-174, 3.68306060e-044,\n",
       "        1.00000000e+000, 3.68306060e-044, 1.84007472e-174],\n",
       "       [0.00000000e+000, 0.00000000e+000, 1.84007472e-174,\n",
       "        3.68306060e-044, 1.00000000e+000, 3.68306060e-044],\n",
       "       [0.00000000e+000, 0.00000000e+000, 0.00000000e+000,\n",
       "        1.84007472e-174, 3.68306060e-044, 1.00000000e+000]])"
      ]
     },
     "execution_count": 1,
     "metadata": {},
     "output_type": "execute_result"
    }
   ],
   "source": [
    "'''\n",
    "function: calculate affinity matrix for 2D image\n",
    "'''\n",
    "import numpy as np\n",
    "\n",
    "def cal_affinity_mat(x,sigma_d=1e2,sigma_g=1e-2):\n",
    "    # FOR 2D IMG\n",
    "    \n",
    "    # Reshape into Col Vect\n",
    "    xre = x.reshape((-1,1)) #\n",
    "\n",
    "    # Cal similarity based on values \n",
    "    dot_prod = np.dot(xre,xre.T)        #nxn\n",
    "    sq_xre = (xre*xre)                  #(n,1)\n",
    "    d = sq_xre - 2*dot_prod + sq_xre.T\n",
    "    s1 = np.exp(-1.0*d/sigma_g)\n",
    "\n",
    "    # Calculate similarity based on positions\n",
    "    c= np.arange(sq_xre.shape[0])\n",
    "    c = np.expand_dims(c, axis=-1)\n",
    "    c_dot_prod = np.dot(c,c.T)\n",
    "    c_sq= c*c\n",
    "    d_c = c_sq - 2*c_dot_prod + c_sq.T\n",
    "    s2 = np.exp(-1.0*d_c/sigma_d)\n",
    "\n",
    "    ans = s1*s2\n",
    "    return ans\n",
    "\n",
    "\n",
    "\n",
    "x= np.array([\n",
    "[2,3,4],\n",
    "[5,6,7]]\n",
    ")\n",
    "\n",
    "cal_affinity_mat(x,sigma_d=1e2,sigma_g=1e-2)"
   ]
  }
 ],
 "metadata": {
  "kernelspec": {
   "display_name": "Python 3.9.6 64-bit",
   "language": "python",
   "name": "python3"
  },
  "language_info": {
   "codemirror_mode": {
    "name": "ipython",
    "version": 3
   },
   "file_extension": ".py",
   "mimetype": "text/x-python",
   "name": "python",
   "nbconvert_exporter": "python",
   "pygments_lexer": "ipython3",
   "version": "3.9.6"
  },
  "vscode": {
   "interpreter": {
    "hash": "31f2aee4e71d21fbe5cf8b01ff0e069b9275f58929596ceb00d14d90e3e16cd6"
   }
  }
 },
 "nbformat": 4,
 "nbformat_minor": 5
}
